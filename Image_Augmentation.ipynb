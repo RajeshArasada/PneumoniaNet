{
 "cells": [
  {
   "cell_type": "code",
   "execution_count": null,
   "metadata": {},
   "outputs": [],
   "source": [
    "import os\n",
    "import pandas as pd\n",
    "import imgaug as ia\n",
    "import imgaug.augmenters as iaa\n",
    "from tensorflow.keras.applications.vgg19 import VGG19, preprocess_input as vgg19_preprocess_input\n",
    "from tensorflow.keras.preprocessing.image import ImageDataGenerator, array_to_img, img_to_array, load_img"
   ]
  },
  {
   "cell_type": "code",
   "execution_count": null,
   "metadata": {},
   "outputs": [],
   "source": [
    "# Define base directory\n",
    "base_dir = \"./covid-chestxray-dataset-master\""
   ]
  },
  {
   "cell_type": "code",
   "execution_count": null,
   "metadata": {},
   "outputs": [],
   "source": [
    "# Read metadata file containing information about the COVID and non-COVID chest xrays\n",
    "df = pd.read_csv(\"metadata.csv\")"
   ]
  },
  {
   "cell_type": "code",
   "execution_count": null,
   "metadata": {},
   "outputs": [],
   "source": [
    "# Filter all COVID Xrays\n",
    "covid_df = df[df['finding']=='COVID-19']\n",
    "covid_df"
   ]
  },
  {
   "cell_type": "code",
   "execution_count": null,
   "metadata": {},
   "outputs": [],
   "source": [
    "# Make path for the image directory\n",
    "image_dir = os.path.join(base_dir, 'images')\n",
    "image_dir"
   ]
  },
  {
   "cell_type": "code",
   "execution_count": null,
   "metadata": {},
   "outputs": [],
   "source": [
    "# make a list of filepaths for all the COVID-19 Chest Xrays\n",
    "f_paths = [\"./images/\" + fname for fname in covid_df[\"filename\"]]\n",
    "# Strip any white spaces\n",
    "f_paths = [fpath.rstrip() for fpath in f_paths]\n",
    "# Keep only jpeg, jpg and png files\n",
    "f_paths = [fi for fi in f_paths if fi.endswith((\".jpeg\", \".png\", \".jpg\"))]\n",
    "# Count the number of files\n",
    "len(f_paths)"
   ]
  },
  {
   "cell_type": "code",
   "execution_count": null,
   "metadata": {},
   "outputs": [],
   "source": [
    "sometimes = lambda aug: iaa.Sometimes(0.5, aug)\n",
    "\n",
    "# apply the following augmenters to most images\n",
    "seq = iaa.Sequential([\n",
    "    iaa.Fliplr(0.5), # horizontally flip 50% of all images\n",
    "    iaa.Flipud(0.2), # vertically flip 20% of all images\n",
    "    \n",
    "    sometimes(iaa.Affine(\n",
    "            #scale={\"x\": (0.8, 1.2), \"y\": (0.8, 1.2)}, # scale images to 80-120% of their size, individually per axis\n",
    "            translate_percent={\"x\": (-0.2, 0.2), \"y\": (-0.2, 0.2)}, # translate by -20 to +20 percent (per axis)\n",
    "            rotate=(-25, 25), # rotate by -25 to +25 degrees\n",
    "            shear=(-8, 8), # shear by -8 to +8 degrees\n",
    "            order=[0, 1], # use nearest neighbour or bilinear interpolation (fast)\n",
    "            cval=(0, 255), # if mode is constant, use a cval between 0 and 255\n",
    "            mode=ia.ALL # use any of scikit-image's warping modes (see 2nd image from the top for examples)\n",
    "        )),\n",
    "    \n",
    "    iaa.SomeOf((0, 5),\n",
    "            [iaa.OneOf([\n",
    "                iaa.GaussianBlur((0, 3.0)), # blur images with a sigma between 0 and 3.0\n",
    "                iaa.AverageBlur(k=(2, 7)), # blur image using local means with kernel sizes between 2 and 7\n",
    "                #iaa.MedianBlur(k=(3, 11)), # blur image using local medians with kernel sizes between 2 and 7\n",
    "            ]),\n",
    "             iaa.Sharpen(alpha=(0, 1.0), lightness=(0.75, 1.5)), # sharpen images\n",
    "             iaa.AdditiveGaussianNoise(loc=0, scale=(0.0, 0.05*255), per_channel=0.5), # add gaussian noise to images\n",
    "            ],\n",
    "               random_order=True\n",
    "              )],\n",
    "    random_order=True\n",
    ")"
   ]
  },
  {
   "cell_type": "code",
   "execution_count": null,
   "metadata": {
    "scrolled": true
   },
   "outputs": [],
   "source": [
    "# Make a new directory to store augmented images\n",
    "!mkdir covid_aug\n",
    "!ls\n",
    "os.listdir(\"./covid_aug\")"
   ]
  },
  {
   "cell_type": "code",
   "execution_count": null,
   "metadata": {},
   "outputs": [],
   "source": [
    "def augment(img):\n",
    "    \"\"\"\n",
    "    to_deterministic() removes the randomness from all augmenters and makes them deterministic \n",
    "    (e.g. for each parameter that comes from a distribution, it samples one value from that \n",
    "    distribution and then keeps reusing that value)\n",
    "    \"\"\"\n",
    "    seq_det = seq.to_deterministic()             \n",
    "    aug_img = seq_det.augment_image(img)         \n",
    "    aug_img = vgg19_preprocess_input(aug_img)    \n",
    "    return aug_img"
   ]
  },
  {
   "cell_type": "code",
   "execution_count": null,
   "metadata": {},
   "outputs": [],
   "source": [
    "# Instantiate the ImageDataGenerator from tensorflow.keras passing in out custom augmentation function\n",
    "train_generator = ImageDataGenerator(preprocessing_function=augment)\n",
    "for f in f_paths:                                   # loop through all the filenames/paths\n",
    "    failed_files = []\n",
    "    try:\n",
    "        img = load_img(f)                           # load image  \n",
    "        x = img_to_array(img)                       # convert to an numpy array\n",
    "        x = x.reshape((1, ) + x.shape)              # # Reshape the input image [batch, height, width, channels]\n",
    "        i = 0                                       #Instantiate the augmentation count at zero\n",
    "                                                    # generate 5 new augmented images  \n",
    "        for batch in train_generator.flow(x, batch_size = 1, \n",
    "                              save_to_dir =\"./covid_aug\",  \n",
    "                              save_prefix ='covid_aug', save_format ='jpeg'):\n",
    "            i += 1\n",
    "            if i > 5:\n",
    "                break\n",
    "    except:\n",
    "        failed_files.append(f)           "
   ]
  }
 ],
 "metadata": {
  "kernelspec": {
   "display_name": "Python 3",
   "language": "python",
   "name": "python3"
  },
  "language_info": {
   "codemirror_mode": {
    "name": "ipython",
    "version": 3
   },
   "file_extension": ".py",
   "mimetype": "text/x-python",
   "name": "python",
   "nbconvert_exporter": "python",
   "pygments_lexer": "ipython3",
   "version": "3.7.4"
  },
  "toc": {
   "base_numbering": 1,
   "nav_menu": {},
   "number_sections": true,
   "sideBar": true,
   "skip_h1_title": false,
   "title_cell": "Table of Contents",
   "title_sidebar": "Contents",
   "toc_cell": false,
   "toc_position": {},
   "toc_section_display": true,
   "toc_window_display": false
  }
 },
 "nbformat": 4,
 "nbformat_minor": 2
}
